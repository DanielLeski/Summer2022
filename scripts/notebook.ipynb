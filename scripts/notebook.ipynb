{
 "cells": [
  {
   "cell_type": "markdown",
   "id": "a296dba9",
   "metadata": {},
   "source": [
    "## Import"
   ]
  },
  {
   "cell_type": "code",
   "execution_count": 1,
   "id": "d711e53b",
   "metadata": {},
   "outputs": [],
   "source": [
    "from numpy import load\n",
    "import numpy as np\n",
    "import time "
   ]
  },
  {
   "cell_type": "markdown",
   "id": "0a20a072",
   "metadata": {},
   "source": [
    "## Load Data"
   ]
  },
  {
   "cell_type": "code",
   "execution_count": 2,
   "id": "fe3d44a9",
   "metadata": {},
   "outputs": [],
   "source": [
    "ag2l = load('/Users/krol/research/Summer2022/Inversion Benchmark Files/ag1000g_2L_gambiae_full.npz')\n",
    "counts = ag2l['allele_counts']\n",
    "pos = ag2l['positions']\n",
    "mask = ag2l['mask']"
   ]
  },
  {
   "cell_type": "code",
   "execution_count": 3,
   "id": "8ebbf530",
   "metadata": {},
   "outputs": [],
   "source": [
    "#create a csv of values so I can manually check that these values are correct that Im getting out of the array\n",
    "for key, value in ag2l.items():\n",
    "    np.savetxt(\"test\" + key + \".csv\", value, fmt='%f')"
   ]
  },
  {
   "cell_type": "markdown",
   "id": "03c3b2da",
   "metadata": {},
   "source": [
    "## Analyzing Data .. thinking of ideas"
   ]
  },
  {
   "cell_type": "code",
   "execution_count": 4,
   "id": "2fffae3a",
   "metadata": {},
   "outputs": [
    {
     "name": "stdout",
     "output_type": "stream",
     "text": [
      "Counts [[0. 1. 1. ... 1. 1. 0.]\n",
      " [0. 2. 2. ... 0. 0. 1.]\n",
      " [0. 2. 2. ... 0. 0. 0.]\n",
      " ...\n",
      " [0. 2. 2. ... 0. 0. 0.]\n",
      " [0. 2. 2. ... 0. 0. 0.]\n",
      " [0. 2. 2. ... 1. 1. 0.]] (81, 596189)\n",
      "Pos [   44889    50387   157120 ... 49356239 49356248 49356406] (596189,)\n",
      "Mask [0. 0. 0. ... 0. 0. 0.] (596189,)\n"
     ]
    }
   ],
   "source": [
    "print('Counts', counts, counts.shape)\n",
    "print(\"Pos\", pos, pos.shape)\n",
    "print(\"Mask\", mask, mask.shape)"
   ]
  },
  {
   "cell_type": "markdown",
   "id": "1496291a",
   "metadata": {},
   "source": [
    "## Sliding Window"
   ]
  },
  {
   "cell_type": "code",
   "execution_count": 5,
   "id": "2550152a",
   "metadata": {},
   "outputs": [],
   "source": [
    "def slide_(allele_counts, windowsize, stepsize):\n",
    "    #zz = np.zeros(windowsize[0], windowsize[1])\n",
    "    alpos = []\n",
    "    for x in range(0, allele_counts.shape[0], stepsize):\n",
    "        for y in range(0, allele_counts.shape[1], stepsize):\n",
    "            alcounts = allele_counts[x:x + windowsize[1], y:y+ windowsize[0]]\n",
    "            if y % windowsize[0] == 0:\n",
    "                alpos = (pos[y:y + windowsize[0]])\n",
    "                almask = (mask[y:y + windowsize[0]])\n",
    "            yield (alcounts, (alpos), (almask))"
   ]
  },
  {
   "cell_type": "code",
   "execution_count": 6,
   "id": "c3456702",
   "metadata": {},
   "outputs": [],
   "source": [
    "aa = slide_(counts, np.array([3,3]), 1)\n",
    "bb = slide_(counts, np.array([3,3]), 1)\n",
    "cc = slide_(counts, np.array([3,3]), 1)"
   ]
  },
  {
   "cell_type": "code",
   "execution_count": 7,
   "id": "5abb636d",
   "metadata": {},
   "outputs": [],
   "source": [
    "alc_ = []\n",
    "alp_ = []\n",
    "alm_ = []"
   ]
  },
  {
   "cell_type": "code",
   "execution_count": 8,
   "id": "e5a8bcdc",
   "metadata": {},
   "outputs": [
    {
     "name": "stdout",
     "output_type": "stream",
     "text": [
      "CPU times: user 2min 3s, sys: 1.79 s, total: 2min 5s\n",
      "Wall time: 2min 6s\n"
     ]
    }
   ],
   "source": [
    "%%time\n",
    "for _, _, almask in bb:\n",
    "    #print(\"Print Orginal: \", almask)\n",
    "    #print(\"Print modified: \", np.tile(almask, (1,3)))\n",
    "    alm_.append(np.tile(almask, (1,3)))\n",
    "\n",
    "#o = np.unique(temp, axis=0)\n",
    "#for i in o:\n",
    "#    alp_.append(np.tile([i], (3,1)))"
   ]
  },
  {
   "cell_type": "code",
   "execution_count": 9,
   "id": "3735099a",
   "metadata": {},
   "outputs": [
    {
     "name": "stdout",
     "output_type": "stream",
     "text": [
      "CPU times: user 2min 2s, sys: 1.77 s, total: 2min 4s\n",
      "Wall time: 2min 4s\n"
     ]
    }
   ],
   "source": [
    "%%time\n",
    "counter = 0\n",
    "for _, alpos, _ in aa:\n",
    "    #print(alpos)\n",
    "    alp_.append(np.tile(alpos, (3,1)))"
   ]
  },
  {
   "cell_type": "code",
   "execution_count": 10,
   "id": "b14480b8",
   "metadata": {},
   "outputs": [
    {
     "name": "stdout",
     "output_type": "stream",
     "text": [
      "CPU times: user 36 s, sys: 594 ms, total: 36.6 s\n",
      "Wall time: 36.6 s\n"
     ]
    }
   ],
   "source": [
    "%%time\n",
    "for c,_,_ in cc:\n",
    "    alc_.append(c)"
   ]
  },
  {
   "cell_type": "code",
   "execution_count": 11,
   "id": "7a71b708",
   "metadata": {},
   "outputs": [
    {
     "data": {
      "text/plain": [
       "48291309"
      ]
     },
     "execution_count": 11,
     "metadata": {},
     "output_type": "execute_result"
    }
   ],
   "source": [
    "len(alp_)"
   ]
  },
  {
   "cell_type": "code",
   "execution_count": 12,
   "id": "e0e27afe",
   "metadata": {},
   "outputs": [
    {
     "data": {
      "text/plain": [
       "48291309"
      ]
     },
     "execution_count": 12,
     "metadata": {},
     "output_type": "execute_result"
    }
   ],
   "source": [
    "len(alc_)"
   ]
  },
  {
   "cell_type": "code",
   "execution_count": 13,
   "id": "503b211f",
   "metadata": {},
   "outputs": [
    {
     "data": {
      "text/plain": [
       "48291309"
      ]
     },
     "execution_count": 13,
     "metadata": {},
     "output_type": "execute_result"
    }
   ],
   "source": [
    "len(alm_)"
   ]
  },
  {
   "cell_type": "code",
   "execution_count": null,
   "id": "6ef120f4",
   "metadata": {},
   "outputs": [],
   "source": [
    "%%time\n",
    "np.savez_compressed('test', a=alc_, b=alp_, c=alm_)"
   ]
  },
  {
   "cell_type": "code",
   "execution_count": null,
   "id": "a3729a1b",
   "metadata": {},
   "outputs": [],
   "source": []
  }
 ],
 "metadata": {
  "interpreter": {
   "hash": "aee8b7b246df8f9039afb4144a1f6fd8d2ca17a180786b69acc140d282b71a49"
  },
  "kernelspec": {
   "display_name": "Python 3 (ipykernel)",
   "language": "python",
   "name": "python3"
  },
  "language_info": {
   "codemirror_mode": {
    "name": "ipython",
    "version": 3
   },
   "file_extension": ".py",
   "mimetype": "text/x-python",
   "name": "python",
   "nbconvert_exporter": "python",
   "pygments_lexer": "ipython3",
   "version": "3.10.5"
  }
 },
 "nbformat": 4,
 "nbformat_minor": 5
}
