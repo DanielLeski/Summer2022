{
 "cells": [
  {
   "cell_type": "markdown",
   "id": "3cfab8f6",
   "metadata": {},
   "source": [
    "## Imports"
   ]
  },
  {
   "cell_type": "code",
   "execution_count": 1,
   "id": "329196aa",
   "metadata": {},
   "outputs": [],
   "source": [
    "from numpy import load\n",
    "import numpy as np\n",
    "import time \n",
    "import matplotlib.pyplot as plt\n",
    "from sklearn.decomposition import PCA\n",
    "import scipy.sparse as sp\n",
    "from sklearn.preprocessing import StandardScaler\n",
    "from matplotlib.pyplot import figure"
   ]
  },
  {
   "cell_type": "markdown",
   "id": "a5bd0fe8",
   "metadata": {},
   "source": [
    "## Load Data"
   ]
  },
  {
   "cell_type": "code",
   "execution_count": 2,
   "id": "569c0e9b",
   "metadata": {},
   "outputs": [],
   "source": [
    "ag2l = load('/Users/krol/research/Summer2022/Inversion Benchmark Files/ag1000g_2L_gambiae_full.npz')\n",
    "counts = ag2l['allele_counts']\n",
    "pos = ag2l['positions']\n",
    "mask = ag2l['mask']"
   ]
  },
  {
   "cell_type": "code",
   "execution_count": 3,
   "id": "b80a7307",
   "metadata": {},
   "outputs": [
    {
     "name": "stdout",
     "output_type": "stream",
     "text": [
      "Allele_Counts  [[0. 1. 1. ... 1. 1. 0.]\n",
      " [0. 2. 2. ... 0. 0. 1.]\n",
      " [0. 2. 2. ... 0. 0. 0.]\n",
      " ...\n",
      " [0. 2. 2. ... 0. 0. 0.]\n",
      " [0. 2. 2. ... 0. 0. 0.]\n",
      " [0. 2. 2. ... 1. 1. 0.]] (81, 596189)\n",
      "Positions  [   44889    50387   157120 ... 49356239 49356248 49356406] (596189,)\n",
      "Mask  [0. 0. 0. ... 0. 0. 0.] (596189,)\n"
     ]
    }
   ],
   "source": [
    "print(\"Allele_Counts \", counts, counts.shape)\n",
    "print(\"Positions \", pos, pos.shape)\n",
    "print(\"Mask \", mask, mask.shape)"
   ]
  },
  {
   "cell_type": "code",
   "execution_count": 4,
   "id": "ef873b10",
   "metadata": {},
   "outputs": [],
   "source": [
    "def populating_window():\n",
    "    populate_windows_list = []\n",
    "    for idx, p in enumerate(pos):\n",
    "        populate_windows_list.insert(p, counts[:, idx])\n",
    "       # (counts[:, idx])\n",
    "    return populate_windows_list"
   ]
  },
  {
   "cell_type": "code",
   "execution_count": 5,
   "id": "e022eee1",
   "metadata": {},
   "outputs": [],
   "source": [
    "def creating_mask():\n",
    "    #looping through all of the columns to create a new mask\n",
    "    #Creating this mask by getting the most frequent number of that particular column\n",
    "    mask_ = []\n",
    "    for idx, snp in enumerate(pos):\n",
    "        el, count = np.unique(counts[:,idx], return_counts=True)\n",
    "        mask_.insert(snp, el[np.argmax(count)])\n",
    "    return mask_"
   ]
  },
  {
   "cell_type": "markdown",
   "id": "fad9c2e6",
   "metadata": {},
   "source": [
    "### Debugging and Running Top Two Methods"
   ]
  },
  {
   "cell_type": "code",
   "execution_count": 6,
   "id": "3fda3333",
   "metadata": {},
   "outputs": [
    {
     "name": "stdout",
     "output_type": "stream",
     "text": [
      "CPU times: user 150 ms, sys: 11.7 ms, total: 162 ms\n",
      "Wall time: 161 ms\n"
     ]
    }
   ],
   "source": [
    "%%time\n",
    "pop = populating_window()"
   ]
  },
  {
   "cell_type": "code",
   "execution_count": 7,
   "id": "3b3de5e4",
   "metadata": {},
   "outputs": [
    {
     "name": "stdout",
     "output_type": "stream",
     "text": [
      "596189\n",
      "81\n"
     ]
    }
   ],
   "source": [
    "print(len(pop))\n",
    "print(len(pop[0]))"
   ]
  },
  {
   "cell_type": "code",
   "execution_count": 8,
   "id": "0fe9addb",
   "metadata": {},
   "outputs": [
    {
     "name": "stdout",
     "output_type": "stream",
     "text": [
      "CPU times: user 8.17 s, sys: 45.5 ms, total: 8.22 s\n",
      "Wall time: 8.21 s\n"
     ]
    }
   ],
   "source": [
    "%%time \n",
    "mask_ = creating_mask()"
   ]
  },
  {
   "cell_type": "code",
   "execution_count": 9,
   "id": "f9612374",
   "metadata": {},
   "outputs": [
    {
     "name": "stdout",
     "output_type": "stream",
     "text": [
      "596189\n"
     ]
    }
   ],
   "source": [
    "print(len(mask_))"
   ]
  },
  {
   "cell_type": "markdown",
   "id": "9b119a98",
   "metadata": {},
   "source": [
    "### Setting Up Sliding Window"
   ]
  },
  {
   "cell_type": "code",
   "execution_count": 10,
   "id": "0be11b3b",
   "metadata": {},
   "outputs": [],
   "source": [
    "def sliding_window():\n",
    "    updated_window_list = []\n",
    "    mask_for_updated_list = []\n",
    "    kernel_size = 10\n",
    "    for y in range(0, len(pop), kernel_size):\n",
    "        updated_window_list.append(pop[y:y+kernel_size+1])\n",
    "        mask_for_updated_list.append(mask_[y:kernel_size])\n",
    "    return np.array(updated_window_list), np.array(mask_for_updated_list)"
   ]
  },
  {
   "cell_type": "code",
   "execution_count": 11,
   "id": "10c0d63b",
   "metadata": {},
   "outputs": [
    {
     "name": "stderr",
     "output_type": "stream",
     "text": [
      "/var/folders/x6/k_t97_rs6vlg4t8lsgz94z1r0000gn/T/ipykernel_2470/2367289187.py:8: VisibleDeprecationWarning: Creating an ndarray from ragged nested sequences (which is a list-or-tuple of lists-or-tuples-or ndarrays with different lengths or shapes) is deprecated. If you meant to do this, you must specify 'dtype=object' when creating the ndarray.\n",
      "  return np.array(updated_window_list), np.array(mask_for_updated_list)\n"
     ]
    }
   ],
   "source": [
    "updated_window, updated_mask = sliding_window()"
   ]
  },
  {
   "cell_type": "code",
   "execution_count": 16,
   "id": "a6d631a2",
   "metadata": {},
   "outputs": [],
   "source": [
    "updated_window = np.array(updated_window)\n",
    "updated_mask = np.array(updated_mask)"
   ]
  },
  {
   "cell_type": "code",
   "execution_count": 18,
   "id": "95a22932",
   "metadata": {},
   "outputs": [
    {
     "data": {
      "text/plain": [
       "<matplotlib.image.AxesImage at 0x16689e8c0>"
      ]
     },
     "execution_count": 18,
     "metadata": {},
     "output_type": "execute_result"
    },
    {
     "data": {
      "image/png": "[encoded data removed]",
      "text/plain": [
       "<Figure size 432x288 with 1 Axes>"
      ]
     },
     "metadata": {
      "needs_background": "light"
     },
     "output_type": "display_data"
    }
   ],
   "source": [
    "plt.imshow(updated_window[0])"
   ]
  },
  {
   "cell_type": "markdown",
   "id": "34089344",
   "metadata": {},
   "source": [
    "## Plotting The Updated_Windows"
   ]
  },
  {
   "cell_type": "code",
   "execution_count": null,
   "id": "39310173",
   "metadata": {},
   "outputs": [],
   "source": []
  },
  {
   "cell_type": "markdown",
   "id": "394298bc",
   "metadata": {},
   "source": [
    "## Navie Way of Getting the Matrixs with Positive and Negative Numbers"
   ]
  },
  {
   "cell_type": "code",
   "execution_count": 12,
   "id": "7656ea19",
   "metadata": {},
   "outputs": [],
   "source": [
    "window_pos = []\n",
    "window_neg = []"
   ]
  },
  {
   "cell_type": "code",
   "execution_count": 13,
   "id": "d8a2013f",
   "metadata": {},
   "outputs": [
    {
     "ename": "ValueError",
     "evalue": "The truth value of an array with more than one element is ambiguous. Use a.any() or a.all()",
     "output_type": "error",
     "traceback": [
      "\u001b[0;31m---------------------------------------------------------------------------\u001b[0m",
      "\u001b[0;31mValueError\u001b[0m                                Traceback (most recent call last)",
      "Input \u001b[0;32mIn [13]\u001b[0m, in \u001b[0;36m<cell line: 1>\u001b[0;34m()\u001b[0m\n\u001b[1;32m      1\u001b[0m \u001b[38;5;28;01mfor\u001b[39;00m i \u001b[38;5;129;01min\u001b[39;00m updated_window:\n\u001b[0;32m----> 2\u001b[0m     \u001b[38;5;28;01mif\u001b[39;00m \u001b[38;5;241;43m-\u001b[39;49m\u001b[38;5;241;43m1\u001b[39;49m\u001b[43m \u001b[49m\u001b[38;5;129;43;01min\u001b[39;49;00m\u001b[43m \u001b[49m\u001b[43mi\u001b[49m:\n\u001b[1;32m      3\u001b[0m         window_neg\u001b[38;5;241m.\u001b[39mappend(i)\n\u001b[1;32m      4\u001b[0m     \u001b[38;5;28;01melse\u001b[39;00m:\n",
      "\u001b[0;31mValueError\u001b[0m: The truth value of an array with more than one element is ambiguous. Use a.any() or a.all()"
     ]
    }
   ],
   "source": [
    "for i in updated_window:\n",
    "    if -1 in i:\n",
    "        window_neg.append(i)\n",
    "    else:\n",
    "        window+pos.append(i) "
   ]
  },
  {
   "cell_type": "code",
   "execution_count": null,
   "id": "d70fb967",
   "metadata": {},
   "outputs": [],
   "source": []
  }
 ],
 "metadata": {
  "kernelspec": {
   "display_name": "Python 3 (ipykernel)",
   "language": "python",
   "name": "python3"
  },
  "language_info": {
   "codemirror_mode": {
    "name": "ipython",
    "version": 3
   },
   "file_extension": ".py",
   "mimetype": "text/x-python",
   "name": "python",
   "nbconvert_exporter": "python",
   "pygments_lexer": "ipython3",
   "version": "3.10.5"
  }
 },
 "nbformat": 4,
 "nbformat_minor": 5
}
