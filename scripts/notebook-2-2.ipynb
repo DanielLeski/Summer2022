{
 "cells": [
  {
   "cell_type": "markdown",
   "id": "a296dba9",
   "metadata": {},
   "source": [
    "## Import"
   ]
  },
  {
   "cell_type": "code",
   "execution_count": 1,
   "id": "d711e53b",
   "metadata": {},
   "outputs": [],
   "source": [
    "from numpy import load\n",
    "import numpy as np\n",
    "import time "
   ]
  },
  {
   "cell_type": "markdown",
   "id": "0a20a072",
   "metadata": {},
   "source": [
    "## Load Data"
   ]
  },
  {
   "cell_type": "code",
   "execution_count": 2,
   "id": "fe3d44a9",
   "metadata": {},
   "outputs": [],
   "source": [
    "ag2l = load('/Users/krol/research/Summer2022/Inversion Benchmark Files/ag1000g_2L_gambiae_full.npz')\n",
    "counts = ag2l['allele_counts']\n",
    "pos = ag2l['positions']\n",
    "mask = ag2l['mask']"
   ]
  },
  {
   "cell_type": "code",
   "execution_count": 3,
   "id": "723db584",
   "metadata": {},
   "outputs": [],
   "source": [
    "#create a csv of values so I can manually check that these values are correct that Im getting out of the array\n",
    "for key, value in ag2l.items():\n",
    "    np.savetxt(\"test\" + key + \".csv\", value, fmt='%f')"
   ]
  },
  {
   "cell_type": "markdown",
   "id": "03c3b2da",
   "metadata": {},
   "source": [
    "## Looking at the Lovely Data"
   ]
  },
  {
   "cell_type": "code",
   "execution_count": 4,
   "id": "6c231db3",
   "metadata": {},
   "outputs": [
    {
     "name": "stdout",
     "output_type": "stream",
     "text": [
      "Allele_Counts  [[0. 1. 1. ... 1. 1. 0.]\n",
      " [0. 2. 2. ... 0. 0. 1.]\n",
      " [0. 2. 2. ... 0. 0. 0.]\n",
      " ...\n",
      " [0. 2. 2. ... 0. 0. 0.]\n",
      " [0. 2. 2. ... 0. 0. 0.]\n",
      " [0. 2. 2. ... 1. 1. 0.]] (81, 596189)\n",
      "Positions  [   44889    50387   157120 ... 49356239 49356248 49356406] (596189,)\n",
      "Mask  [0. 0. 0. ... 0. 0. 0.] (596189,)\n"
     ]
    }
   ],
   "source": [
    "print(\"Allele_Counts \", counts, counts.shape)\n",
    "print(\"Positions \", pos, pos.shape)\n",
    "print(\"Mask \", mask, mask.shape)"
   ]
  },
  {
   "cell_type": "markdown",
   "id": "1496291a",
   "metadata": {},
   "source": [
    "## Sliding Window"
   ]
  },
  {
   "cell_type": "code",
   "execution_count": 5,
   "id": "2550152a",
   "metadata": {},
   "outputs": [],
   "source": [
    "def slide_(allele_counts, windowsize, stepsize):\n",
    "    #zz = np.zeros(windowsize[0], windowsize[1])\n",
    "    alpos = []\n",
    "    for x in range(0, allele_counts.shape[0], stepsize):\n",
    "        for y in range(0, allele_counts.shape[1], stepsize):\n",
    "            alcounts = allele_counts[x:x + windowsize[1], y:y+ windowsize[0]]\n",
    "            if y % windowsize[0] == 0:\n",
    "                alpos = (pos[y:y + windowsize[0]])\n",
    "                almask = (mask[y:y + windowsize[0]])\n",
    "            yield (alcounts, (alpos), (almask))"
   ]
  },
  {
   "cell_type": "markdown",
   "id": "6f272117",
   "metadata": {},
   "source": [
    "## Getting the updated Allele_counts, Positions, and Masks"
   ]
  },
  {
   "cell_type": "code",
   "execution_count": 6,
   "id": "b0db3091",
   "metadata": {},
   "outputs": [],
   "source": [
    "# Creatings a windows/kernel size\n",
    "winsize = [3,3]"
   ]
  },
  {
   "cell_type": "code",
   "execution_count": 7,
   "id": "c3456702",
   "metadata": {},
   "outputs": [],
   "source": [
    "aa = slide_(counts, np.array([winsize[0], winsize[1]]), 1)\n",
    "bb = slide_(counts, np.array([winsize[0], winsize[1]]), 1)\n",
    "cc = slide_(counts, np.array([winsize[0], winsize[1]]), 1)"
   ]
  },
  {
   "cell_type": "code",
   "execution_count": 8,
   "id": "5abb636d",
   "metadata": {},
   "outputs": [],
   "source": [
    "alc_ = []\n",
    "alp_ = []\n",
    "alm_ = []"
   ]
  },
  {
   "cell_type": "markdown",
   "id": "8e9a01fc",
   "metadata": {},
   "source": [
    "### Getting the masks\n",
    "We are grabbing the masks based on the kernel size and where the slide_ method left on getting through the allele_count matrix's"
   ]
  },
  {
   "cell_type": "code",
   "execution_count": 9,
   "id": "e04941c5",
   "metadata": {},
   "outputs": [
    {
     "name": "stdout",
     "output_type": "stream",
     "text": [
      "CPU times: user 2min 5s, sys: 2.46 s, total: 2min 7s\n",
      "Wall time: 2min 9s\n"
     ]
    }
   ],
   "source": [
    "%%time\n",
    "for _, _, almask in bb:\n",
    "    #print(\"Print Orginal: \", almask)\n",
    "    #print(\"Print modified: \", np.tile(almask, (1,3)))\n",
    "    alm_.append(np.tile(almask, (1,winsize[0])))\n",
    "\n",
    "#o = np.unique(temp, axis=0)\n",
    "#for i in o:\n",
    "#    alp_.append(np.tile([i], (3,1)))"
   ]
  },
  {
   "cell_type": "markdown",
   "id": "f0859315",
   "metadata": {},
   "source": [
    "### Getting the Positions \n",
    "We are creating matrix's based on the kernel size of the positions that we are grabbing the windows from the allele_count matrix"
   ]
  },
  {
   "cell_type": "code",
   "execution_count": null,
   "id": "3735099a",
   "metadata": {},
   "outputs": [],
   "source": [
    "%%time\n",
    "counter = 0\n",
    "for _, alposition, _ in aa:\n",
    "    counter = counter + 1\n",
    "    if counter % 3 == 0:\n",
    "        alp_.append(np.tile(alposition, (winsize[0], 1)))"
   ]
  },
  {
   "cell_type": "markdown",
   "id": "56cb1740",
   "metadata": {},
   "source": [
    "### Getting the Counts\n",
    "Here we are simply appending the array which is our window of elements that we have gathered into a list "
   ]
  },
  {
   "cell_type": "code",
   "execution_count": null,
   "id": "94e0376e",
   "metadata": {},
   "outputs": [],
   "source": [
    "%%time\n",
    "for c,_,_ in cc:\n",
    "    alc_.append(c)"
   ]
  },
  {
   "cell_type": "markdown",
   "id": "06937b26",
   "metadata": {},
   "source": [
    "### Cells used for Debugging"
   ]
  },
  {
   "cell_type": "code",
   "execution_count": null,
   "id": "7a71b708",
   "metadata": {},
   "outputs": [],
   "source": [
    "print(len(alp_))\n",
    "print(len(alc_))\n",
    "print(len(alm_))"
   ]
  },
  {
   "cell_type": "code",
   "execution_count": null,
   "id": "47a28409",
   "metadata": {},
   "outputs": [],
   "source": [
    "print(alc_[0:100])\n",
    "print(counts[0:100])"
   ]
  },
  {
   "cell_type": "code",
   "execution_count": null,
   "id": "0e0c856f",
   "metadata": {},
   "outputs": [],
   "source": [
    "print(alm_[0:100])\n",
    "print(mask[0:100])"
   ]
  },
  {
   "cell_type": "code",
   "execution_count": null,
   "id": "bc109594",
   "metadata": {},
   "outputs": [],
   "source": [
    "print(alp_[0:100])\n",
    "print(pos[0:100])"
   ]
  },
  {
   "cell_type": "markdown",
   "id": "c3f2c1e4",
   "metadata": {},
   "source": [
    "## Saving the to a compressed Numpy file"
   ]
  },
  {
   "cell_type": "markdown",
   "id": "a240581d",
   "metadata": {},
   "source": [
    "please don't eat my ram =("
   ]
  },
  {
   "cell_type": "code",
   "execution_count": null,
   "id": "3b5908fa",
   "metadata": {},
   "outputs": [],
   "source": [
    "np.savez_compressed('test', allele_counts=alc_, position=alp_, mask=alm_)"
   ]
  }
 ],
 "metadata": {
  "interpreter": {
   "hash": "aee8b7b246df8f9039afb4144a1f6fd8d2ca17a180786b69acc140d282b71a49"
  },
  "kernelspec": {
   "display_name": "Python 3 (ipykernel)",
   "language": "python",
   "name": "python3"
  },
  "language_info": {
   "codemirror_mode": {
    "name": "ipython",
    "version": 3
   },
   "file_extension": ".py",
   "mimetype": "text/x-python",
   "name": "python",
   "nbconvert_exporter": "python",
   "pygments_lexer": "ipython3",
   "version": "3.10.5"
  }
 },
 "nbformat": 4,
 "nbformat_minor": 5
}
